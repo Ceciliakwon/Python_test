{
 "cells": [
  {
   "cell_type": "markdown",
   "metadata": {},
   "source": [
    "## 특징\n",
    "\n",
    "* 벡터 및 행렬 연산과 관련된 편리한 기능을 제공(선형대수 관련)\n",
    "* 리스트에 비해 빠르고 메모리를 효율적으로 사용\n",
    "* 반복문 없이 데이터 배열에 대한 처리를 지원(인덱싱, 질의)\n",
    "* http://www.numpy.org\n",
    "* ndarray(여러차원의 배열) 기본 데이터 타입 사용 "
   ]
  },
  {
   "cell_type": "code",
   "execution_count": 2,
   "metadata": {},
   "outputs": [],
   "source": [
    "import numpy as np"
   ]
  },
  {
   "cell_type": "markdown",
   "metadata": {},
   "source": [
    "## 1차원 배열"
   ]
  },
  {
   "cell_type": "code",
   "execution_count": 19,
   "metadata": {},
   "outputs": [
    {
     "name": "stdout",
     "output_type": "stream",
     "text": [
      "[1, 2, 3, 4, 5, 10, 20]\n",
      "<class 'list'>\n"
     ]
    }
   ],
   "source": [
    "a1 = [1, 2, 3, 4, 5, 10, 20]\n",
    "print(a1)\n",
    "print(type(a1))\n",
    "# print(a1.shape)"
   ]
  },
  {
   "cell_type": "code",
   "execution_count": 21,
   "metadata": {},
   "outputs": [
    {
     "name": "stdout",
     "output_type": "stream",
     "text": [
      "['1' '2' '3' '4' '5' '10' '20' '가' '나' 'a' 'b' 'c' 'd']\n",
      "<class 'numpy.ndarray'>\n",
      "(13,)\n",
      "<U11\n"
     ]
    }
   ],
   "source": [
    "a2 = np.array([1, 2, 3, 4, 5, 10, 20, \"가\", \"나\", \"a\", \"b\", \"c\", \"d\"])\n",
    "print(a2)\n",
    "print(type(a2))\n",
    "print(a2.shape) # 데이터의 크기 확인\n",
    "print(a2.dtype) # 데이터 타입 확인"
   ]
  },
  {
   "cell_type": "code",
   "execution_count": 16,
   "metadata": {},
   "outputs": [
    {
     "name": "stdout",
     "output_type": "stream",
     "text": [
      "[ 1.  2.  3.  4.  5. 10. 20. 30. 40.]\n",
      "float64\n"
     ]
    }
   ],
   "source": [
    "a3 = np.array([1, 2, 3, 4, 5, 10, 20, \"30\", \"40\"], float) # type= float(형태변환)\n",
    "print(a3)\n",
    "print(a3.dtype)"
   ]
  },
  {
   "cell_type": "code",
   "execution_count": 22,
   "metadata": {},
   "outputs": [
    {
     "name": "stdout",
     "output_type": "stream",
     "text": [
      "int32\n"
     ]
    }
   ],
   "source": [
    "a4 = np.dtype('>i4')  # 4자리수를 바이트로 표현 \n",
    "print(a4.name)"
   ]
  },
  {
   "cell_type": "code",
   "execution_count": 23,
   "metadata": {},
   "outputs": [
    {
     "name": "stdout",
     "output_type": "stream",
     "text": [
      "[0, 1, 2, 3, 4, 5, 6, 7, 8, 9, 0, 1, 2, 3, 4, 5, 6, 7, 8, 9]\n"
     ]
    }
   ],
   "source": [
    "# 벡터화 연산\n",
    "data = [0, 1, 2, 3, 4, 5, 6, 7, 8, 9]\n",
    "print(data * 2) # 연산이 아닌 반복문\n",
    "# print(data - 2)"
   ]
  },
  {
   "cell_type": "code",
   "execution_count": 25,
   "metadata": {},
   "outputs": [
    {
     "name": "stdout",
     "output_type": "stream",
     "text": [
      "[ 0  2  4  6  8 10 12 14 16 18]\n",
      "[ 2  3  4  5  6  7  8  9 10 11]\n",
      "[-2 -1  0  1  2  3  4  5  6  7]\n"
     ]
    }
   ],
   "source": [
    "# 배열로 바꾸기, 하나씩 벡터 연산 가능/ 반복문 지정 필요없음\n",
    "data2 = np.array(data)\n",
    "print(data2 * 2)\n",
    "print(data2 + 2)\n",
    "print(data2 - 2)"
   ]
  },
  {
   "cell_type": "code",
   "execution_count": 26,
   "metadata": {},
   "outputs": [
    {
     "name": "stdout",
     "output_type": "stream",
     "text": [
      "0 1\n"
     ]
    }
   ],
   "source": [
    "# 인덱스 접근\n",
    "print(data2[0], data2[1])"
   ]
  },
  {
   "cell_type": "markdown",
   "metadata": {},
   "source": [
    "### 2차원 배열"
   ]
  },
  {
   "cell_type": "code",
   "execution_count": 34,
   "metadata": {},
   "outputs": [
    {
     "name": "stdout",
     "output_type": "stream",
     "text": [
      "[[1 2 3]\n",
      " [4 5 6]]\n",
      "(2, 3)\n",
      "____________________\n",
      "[1 2 3]\n",
      "1\n",
      "2\n",
      "3\n"
     ]
    }
   ],
   "source": [
    "arr = np.array([[1, 2, 3], [4, 5, 6]])\n",
    "print(arr)\n",
    "print(arr.shape) #2행3열\n",
    "print(\"____________________\")\n",
    "# 접근\n",
    "print(arr[0])\n",
    "print(arr[0][0])\n",
    "print(len(arr))  # 행의 길이\n",
    "print(len(arr[0])) # [0]번쩨 행의 열의 갯수\n"
   ]
  },
  {
   "cell_type": "markdown",
   "metadata": {},
   "source": [
    "### 3차원 배열"
   ]
  },
  {
   "cell_type": "code",
   "execution_count": 43,
   "metadata": {},
   "outputs": [
    {
     "name": "stdout",
     "output_type": "stream",
     "text": [
      "[[[ 1  2  3  4]\n",
      "  [ 5  6  7  8]]\n",
      "\n",
      " [[ 9 10 11 12]\n",
      "  [13 14 15 16]]]\n",
      "-------------------\n",
      "[[1 2 3 4]\n",
      " [5 6 7 8]]\n",
      "-------------------\n",
      "[1 2 3 4]\n",
      "-------------------\n",
      "1\n",
      "-------------------\n",
      "(2, 2, 4)\n",
      "3\n",
      "2 2 4\n"
     ]
    }
   ],
   "source": [
    "arr = np.array([[[1, 2, 3, 4], [5, 6, 7, 8]], [[9, 10, 11, 12], [13, 14, 15, 16]]])  # 처음이나 끝에 대괄호[]가 몇개인지 확인\n",
    "print(arr)\n",
    "print(\"-------------------\")\n",
    "print(arr[0])\n",
    "print(\"-------------------\")\n",
    "print(arr[0][0])  # 데이터x, 주소만\n",
    "print(\"-------------------\")\n",
    "print(arr[0][0][0])\n",
    "print(\"-------------------\")\n",
    "print(arr.shape) # 2면 2행 4열\n",
    "print(arr.ndim) # 몇차원인지 확인\n",
    "print(len(arr), len(arr[0]), len(arr[0][0])) # 행 우선"
   ]
  },
  {
   "cell_type": "code",
   "execution_count": 50,
   "metadata": {},
   "outputs": [
    {
     "name": "stdout",
     "output_type": "stream",
     "text": [
      "1\n",
      "int32\n",
      "()\n",
      "0\n",
      "-----------------\n",
      "[[1]]\n",
      "int32\n",
      "(1, 1)\n",
      "2\n",
      "1\n"
     ]
    }
   ],
   "source": [
    "arr = np.array(1)\n",
    "print(arr)\n",
    "print(arr.dtype)\n",
    "print(arr.shape)\n",
    "print(arr.ndim)\n",
    "#print(len(arr))  # 하나의 스칼라 즉, 길이는 없음\n",
    "print(\"-----------------\")\n",
    "arr = np.array([[1]])  # 'tensor'라고 부름\n",
    "print(arr)\n",
    "print(arr.dtype)\n",
    "print(arr.shape)\n",
    "print(arr.ndim)\n",
    "print(len(arr))"
   ]
  },
  {
   "cell_type": "markdown",
   "metadata": {},
   "source": [
    "### 배열의 인덱싱\n",
    "\n",
    "- 배열에 저장되어 있는 데이터를 접근하는 방법"
   ]
  },
  {
   "cell_type": "code",
   "execution_count": 55,
   "metadata": {},
   "outputs": [
    {
     "name": "stdout",
     "output_type": "stream",
     "text": [
      "2 4 4 2\n"
     ]
    }
   ],
   "source": [
    "arr = np.array([0, 1, 2, 3, 4])\n",
    "print(arr[2], arr[4], arr[-1], arr[-3])  # '-'는 역순"
   ]
  },
  {
   "cell_type": "code",
   "execution_count": 58,
   "metadata": {},
   "outputs": [
    {
     "name": "stdout",
     "output_type": "stream",
     "text": [
      "2 2 5\n"
     ]
    }
   ],
   "source": [
    "arr2 = np.array([[0, 1, 2], \n",
    "                 [3, 4, 5]])\n",
    "print(arr2[0][2], arr2[0, 2], arr2[-1, -1]) #0행 2열/마지막행 마지막열"
   ]
  },
  {
   "cell_type": "code",
   "execution_count": 78,
   "metadata": {},
   "outputs": [
    {
     "name": "stdout",
     "output_type": "stream",
     "text": [
      "[0 2 4 6 8]\n",
      "[0 1 0 1 0 1 0 1 0 1]\n",
      "[ True False  True False  True False  True False  True False]\n",
      "[0 2 4 6 8]\n",
      "[0 3 6 9]\n",
      "[1 5 9]\n",
      "[9]\n"
     ]
    }
   ],
   "source": [
    "# fancy indexing \n",
    "\n",
    "arr3 = np.array([i for i in range(10)])\n",
    "arr3\n",
    "idx = np.array([True, False, True, False, True, False, True, False, True, False])\n",
    "\n",
    "print(arr3[idx])\n",
    "print(arr3 % 2)\n",
    "print(arr3 % 2 == 0)\n",
    "print(arr3[arr3 % 2 == 0])\n",
    "\n",
    "# arr3에서 3의 배수를 찾아라\n",
    "print(arr3[arr3 % 3 == 0])\n",
    "# arr3에서 4로 나누면 1이 남는 수를 찾아라\n",
    "print(arr3[arr3 % 4 == 1])\n",
    "# arr3에서 3으로 나누면 나눠지고 4로 나누면 1이 남는 수를 찾아라 : 9\n",
    "print(arr3[(arr3 % 3 == 0) & (arr3 % 4 == 1)])\n"
   ]
  },
  {
   "cell_type": "markdown",
   "metadata": {},
   "source": [
    "### 배열의 슬라이싱"
   ]
  },
  {
   "cell_type": "code",
   "execution_count": 88,
   "metadata": {},
   "outputs": [
    {
     "name": "stdout",
     "output_type": "stream",
     "text": [
      "[0 1]\n",
      "-------------\n",
      "[[4 5]\n",
      " [8 9]]\n",
      "-------------\n",
      "[0 1 2 3]\n",
      "[4 5]\n",
      "[4 5]\n",
      "[[4 5]]\n",
      "-------------\n",
      "[[ 8  9 10 11]\n",
      " [ 4  5  6  7]\n",
      " [ 0  1  2  3]]\n",
      "-------------\n",
      "[[ 1  2]\n",
      " [ 5  6]\n",
      " [ 9 10]]\n"
     ]
    }
   ],
   "source": [
    "arr = np.array([[0, 1, 2, 3], \n",
    "                [4, 5, 6, 7], \n",
    "                [8, 9, 10, 11]])\n",
    "\n",
    "print(arr[0, 0:2]) # 0행에서 0~2-1 까지 열\n",
    "print(\"-------------\")\n",
    "print(arr[1:3, 0:2]) # 1행부터 3-1행까지\n",
    "print(\"-------------\")\n",
    "print(arr[0, :]) # ':'=모든열 \n",
    "\n",
    "# [[0, 1], [4,5]] 출력\n",
    "print(arr[1, 0:2])\n",
    "print(arr[-2, 0:2])\n",
    "print(arr[1:2, :2])\n",
    "print(\"-------------\")\n",
    "print(arr[[2, 1, 0], :]) #행의 위치를 선택적으로\n",
    "print(\"-------------\")\n",
    "print(arr[ : , [1, 2]]) # 모든 행의 1, 2열만"
   ]
  },
  {
   "cell_type": "markdown",
   "metadata": {},
   "source": [
    "### numpy 자료형\n",
    "\n",
    "+ b : 불리언\n",
    "+ i : 정수      i8\n",
    "+ u : 부호없는 정수\n",
    "+ f : 부동소수점\n",
    "+ c : 복소수\n",
    "+ O : 객체 (대문자 오)\n",
    "+ S : 바이트 문자열(대문자)     S24 \n",
    "+ U : 유니코드 문자열(대문자)  2바이트씩"
   ]
  },
  {
   "cell_type": "code",
   "execution_count": 92,
   "metadata": {},
   "outputs": [
    {
     "name": "stdout",
     "output_type": "stream",
     "text": [
      "float32\n",
      "3.0\n"
     ]
    }
   ],
   "source": [
    "arr = np.array([1, 2, 3], dtype='f')  # 정수형-> 실수형\n",
    "print(arr.dtype)\n",
    "print(arr[0] + arr[1])"
   ]
  },
  {
   "cell_type": "code",
   "execution_count": 95,
   "metadata": {},
   "outputs": [
    {
     "name": "stdout",
     "output_type": "stream",
     "text": [
      "|S1\n",
      "b'12'\n",
      "---------------------------\n",
      "<U1\n",
      "12\n"
     ]
    }
   ],
   "source": [
    "arr = np.array([1, 2, 3], dtype='S') # 숫자가 아닌 문자(1 바이트)로 연결만\n",
    "print(arr.dtype)\n",
    "print(arr[0] + arr[1])\n",
    "print(\"---------------------------\")\n",
    "arr = np.array([1, 2, 3], dtype='U') # 숫자가 아닌 문자(2 바이트)로 연결만\n",
    "print(arr.dtype)\n",
    "print(arr[0] + arr[1])"
   ]
  },
  {
   "cell_type": "code",
   "execution_count": 105,
   "metadata": {},
   "outputs": [
    {
     "name": "stdout",
     "output_type": "stream",
     "text": [
      "<U5\n",
      "('<f8', (2,))\n",
      "------------------\n",
      "['홍길동' '임꺽정' '신돌석' '김수한무 ']\n",
      "<U5\n",
      "------------------\n",
      "[('홍길동', [5., 7.]) ('임꺽정', [8., 9.])]\n"
     ]
    }
   ],
   "source": [
    "# 데이터 타입 만들기\n",
    "dt = np.dtype([('name', np.unicode_, 5), (\"grades\", np.float64, (2,))])\n",
    "\n",
    "print(dt[\"name\"])\n",
    "print(dt[\"grades\"])\n",
    "\n",
    "print(\"------------------\")\n",
    "\n",
    "arr = np.array([\"홍길동\", \"임꺽정\", \"신돌석\", \"김수한무 거북이와 두루미\"], dtype=dt[\"name\"])\n",
    "print(arr)\n",
    "print(arr.dtype)\n",
    "                                                                \n",
    "print(\"------------------\")\n",
    "\n",
    "arr = np.array([(\"홍길동\", (5.0, 7.0)), (\"임꺽정\", (8.0, 9.0))], dtype=dt)\n",
    "print(arr)                                                              "
   ]
  },
  {
   "cell_type": "markdown",
   "metadata": {},
   "source": [
    "### 배열 생성 (return 값=배열)"
   ]
  },
  {
   "cell_type": "code",
   "execution_count": 114,
   "metadata": {},
   "outputs": [
    {
     "name": "stdout",
     "output_type": "stream",
     "text": [
      "[0. 0. 0. 0. 0.]\n",
      "float64\n",
      "<class 'numpy.ndarray'>\n",
      "---------------\n",
      "[0 0 0 0 0]\n",
      "int32\n",
      "<class 'numpy.ndarray'>\n",
      "---------------\n",
      "['' '' '' '' '']\n",
      "<U1\n",
      "<class 'numpy.ndarray'>\n",
      "---------------\n",
      "['' '' '' '' '']\n",
      "<U4\n",
      "<class 'numpy.ndarray'>\n",
      "['abc' 'abcd' 'abcd' '' '']\n",
      "---------------\n",
      "[[0. 0. 0.]\n",
      " [0. 0. 0.]]\n"
     ]
    }
   ],
   "source": [
    "arr = np.zeros(5) # 0이 5개의 배열\n",
    "print(arr)\n",
    "print(arr.dtype)  # 기본값=float\n",
    "print(type(arr))\n",
    "\n",
    "print(\"---------------\")\n",
    "\n",
    "arr = np.zeros(5, dtype=\"i\")  #i는 int\n",
    "print(arr)\n",
    "print(arr.dtype) \n",
    "print(type(arr))\n",
    "\n",
    "print(\"---------------\")\n",
    "\n",
    "arr = np.zeros(5, dtype=\"U\")\n",
    "print(arr)\n",
    "print(arr.dtype)\n",
    "print(type(arr))\n",
    "\n",
    "print(\"---------------\")\n",
    "arr = np.zeros(5, dtype=\"U4\") # 길이는 4글자까지\n",
    "print(arr)\n",
    "print(arr.dtype)\n",
    "print(type(arr))\n",
    "\n",
    "arr[0] = \"abc\"\n",
    "arr[1] = \"abcd\"\n",
    "arr[2] = \"abcde\"\n",
    "print(arr)\n",
    "\n",
    "print(\"---------------\")\n",
    "\n",
    "arr = np.zeros((2, 3))  #2행 3열짜리 배열\n",
    "print(arr)"
   ]
  },
  {
   "cell_type": "code",
   "execution_count": 126,
   "metadata": {},
   "outputs": [
    {
     "name": "stdout",
     "output_type": "stream",
     "text": [
      "[[[1. 1. 1. 1.]\n",
      "  [1. 1. 1. 1.]\n",
      "  [1. 1. 1. 1.]]\n",
      "\n",
      " [[1. 1. 1. 1.]\n",
      "  [1. 1. 1. 1.]\n",
      "  [1. 1. 1. 1.]]]\n",
      "---------------\n",
      "[[1. 1. 1.]\n",
      " [1. 1. 1.]]\n",
      "---------------\n",
      "[[1.03698325e-311 3.16202013e-322 0.00000000e+000]\n",
      " [0.00000000e+000 0.00000000e+000 1.25747884e-075]\n",
      " [3.60112761e+175 9.32711286e+164 2.73948854e-057]\n",
      " [4.51298350e-037 1.87936895e+160 3.15763701e-033]]\n",
      "---------------\n",
      "[0 1 2 3 4 5 6 7 8 9]\n",
      "[  0.  25.  50.  75. 100.]\n"
     ]
    }
   ],
   "source": [
    "## 리턴값은 무조건 배열\n",
    "arr = np.ones((2, 3, 4))  #3행 4열짜리 배열이 2개 -> 3차원\n",
    "print(arr)\n",
    "\n",
    "print(\"---------------\")\n",
    "\n",
    "arr1 = np.zeros((2, 3))\n",
    "arr2 = np.ones_like(arr1) # 기존의 값을 1로 바꿈\n",
    "print(arr2)\n",
    "\n",
    "print(\"---------------\")\n",
    "\n",
    "arr = np.empty((4, 3))  # 메모리의 기존값을 그대로 프린트\n",
    "print(arr)\n",
    "\n",
    "print(\"---------------\")\n",
    "\n",
    "arr = np.arange(10)  # 반복문 range와 같은 결과/ but, range의 결과값은 리스트\n",
    "print(arr)\n",
    "\n",
    "arr = np.linspace(0, 100, 5)  # 간격지정, 그래프 그릴때 자주 사용 / 0부터 100까지 5등분\n",
    "print(arr)\n"
   ]
  },
  {
   "cell_type": "markdown",
   "metadata": {},
   "source": [
    "### 전치 연산(Transpose) "
   ]
  },
  {
   "cell_type": "code",
   "execution_count": 127,
   "metadata": {},
   "outputs": [
    {
     "name": "stdout",
     "output_type": "stream",
     "text": [
      "[[1 2 3]\n",
      " [4 5 6]]\n",
      "[[1 4]\n",
      " [2 5]\n",
      " [3 6]]\n"
     ]
    }
   ],
   "source": [
    "# 2차원 이상\n",
    "arr = np.array([[1, 2, 3], [4, 5, 6]])\n",
    "print(arr)\n",
    "print(arr.T) #행과 열의 바꿈"
   ]
  },
  {
   "cell_type": "markdown",
   "metadata": {},
   "source": [
    "### 배열의 크기 변형 : reshape(), flatten(), ravel()"
   ]
  },
  {
   "cell_type": "code",
   "execution_count": 130,
   "metadata": {},
   "outputs": [
    {
     "name": "stdout",
     "output_type": "stream",
     "text": [
      "[ 0  1  2  3  4  5  6  7  8  9 10 11]\n",
      "(12,)\n"
     ]
    }
   ],
   "source": [
    "# flatten(), ravel() -> 고차원의 배열을 1차원으로 변형\n",
    "# reshape()은 행렬을 지정하면 다양하게 형태변형 가능\n",
    "\n",
    "arr = np.arange(12)\n",
    "print(arr)\n",
    "print(arr.shape)"
   ]
  },
  {
   "cell_type": "code",
   "execution_count": 134,
   "metadata": {},
   "outputs": [
    {
     "name": "stdout",
     "output_type": "stream",
     "text": [
      "[[ 0  1  2  3]\n",
      " [ 4  5  6  7]\n",
      " [ 8  9 10 11]]\n",
      "(3, 4)\n",
      "------------------------\n",
      "[[ 0  1  2  3]\n",
      " [ 4  5  6  7]\n",
      " [ 8  9 10 11]]\n",
      "(3, 4)\n",
      "------------------------\n",
      "[[ 0  1  2  3]\n",
      " [ 4  5  6  7]\n",
      " [ 8  9 10 11]]\n",
      "(3, 4)\n"
     ]
    }
   ],
   "source": [
    "arr1 = arr.reshape(3, 4)\n",
    "print(arr1)\n",
    "print(arr1.shape)\n",
    "\n",
    "print(\"------------------------\")\n",
    "\n",
    "arr1 = arr.reshape(3, -1)  # -1 = 자동으로 열의 갯수 지정\n",
    "print(arr1)\n",
    "print(arr1.shape)\n",
    "\n",
    "print(\"------------------------\")\n",
    "\n",
    "arr1 = arr.reshape(-1, 4)  # -1 = 자동으로 행의 갯수 지정\n",
    "print(arr1)\n",
    "print(arr1.shape)"
   ]
  },
  {
   "cell_type": "code",
   "execution_count": 137,
   "metadata": {},
   "outputs": [
    {
     "name": "stdout",
     "output_type": "stream",
     "text": [
      "[[[ 0  1  2]\n",
      "  [ 3  4  5]]\n",
      "\n",
      " [[ 6  7  8]\n",
      "  [ 9 10 11]]]\n",
      "------------------------\n",
      "[[[ 0  1  2]\n",
      "  [ 3  4  5]]\n",
      "\n",
      " [[ 6  7  8]\n",
      "  [ 9 10 11]]]\n",
      "(2, 2, 3)\n",
      "------------------------\n",
      "[[[ 0  1  2]\n",
      "  [ 3  4  5]]\n",
      "\n",
      " [[ 6  7  8]\n",
      "  [ 9 10 11]]]\n",
      "(2, 2, 3)\n",
      "------------------------\n",
      "[[[ 0  1  2]\n",
      "  [ 3  4  5]]\n",
      "\n",
      " [[ 6  7  8]\n",
      "  [ 9 10 11]]]\n",
      "(2, 2, 3)\n"
     ]
    }
   ],
   "source": [
    "# 3차원으로 바꾸기\n",
    "\n",
    "arr2 = arr.reshape(2, 2, 3) # 1차원 배열을 3차원으로 변경\n",
    "print(arr2)\n",
    "\n",
    "print(\"------------------------\")\n",
    "\n",
    "arr2 = arr.reshape(2, 2, -1) # 행의 갯수 자동 생성 \n",
    "print(arr2)\n",
    "print(arr2.shape)\n",
    "\n",
    "print(\"------------------------\")\n",
    "\n",
    "arr2 = arr.reshape(2, -1, 3) # 열의 갯수 자동 생성\n",
    "print(arr2)\n",
    "print(arr2.shape)\n",
    "\n",
    "print(\"------------------------\")\n",
    "\n",
    "arr2 = arr.reshape(-1, 2, 3)  # 면의 갯수 자동 생성\n",
    "print(arr2)\n",
    "print(arr2.shape)\n"
   ]
  },
  {
   "cell_type": "code",
   "execution_count": 143,
   "metadata": {},
   "outputs": [
    {
     "name": "stdout",
     "output_type": "stream",
     "text": [
      "[ 0  1  2  3  4  5  6  7  8  9 10 11]\n",
      "[ 0  1  2  3  4  5  6  7  8  9 10 11]\n",
      "---------------------------------------\n",
      "[ 0  1  2  3  4  5  6  7  8  9 10 11]\n",
      "[ 0  1  2  3  4  5  6  7  8  9 10 11]\n"
     ]
    }
   ],
   "source": [
    "# 1차원으로 변경\n",
    "print(arr.flatten())\n",
    "print(arr.ravel())\n",
    "\n",
    "print(\"---------------------------------------\")\n",
    "\n",
    "# 2차원 -> 1차원\n",
    "print(arr2.flatten())\n",
    "print(arr2.ravel())"
   ]
  },
  {
   "cell_type": "code",
   "execution_count": 151,
   "metadata": {},
   "outputs": [
    {
     "name": "stdout",
     "output_type": "stream",
     "text": [
      "[[0 1 2 3 4]]\n",
      "[[0]\n",
      " [1]\n",
      " [2]\n",
      " [3]\n",
      " [4]]\n",
      "---------------------------------------\n",
      "[[0]\n",
      " [1]\n",
      " [2]\n",
      " [3]\n",
      " [4]]\n",
      "[[0 1 2 3 4]]\n",
      "---------------------------------------\n",
      "[[0]\n",
      " [1]\n",
      " [2]\n",
      " [3]\n",
      " [4]]\n"
     ]
    }
   ],
   "source": [
    "arr = np.arange(5)\n",
    "\n",
    "print(arr.reshape(1, 5))\n",
    "print(arr.reshape(5, 1))\n",
    "\n",
    "print(\"---------------------------------------\")\n",
    "\n",
    "print(arr.reshape(1, 5).T)   # 전치행렬 사용 가능\n",
    "print(arr.reshape(5, 1).T)\n",
    "\n",
    "print(\"---------------------------------------\")\n",
    "\n",
    "print(arr[: , np.newaxis])  # 형식만 2차원으로 생성"
   ]
  },
  {
   "cell_type": "markdown",
   "metadata": {},
   "source": [
    "### 배열 연결(병합) : stack, hstack, vstack, dstack, tile"
   ]
  },
  {
   "cell_type": "code",
   "execution_count": 157,
   "metadata": {},
   "outputs": [
    {
     "name": "stdout",
     "output_type": "stream",
     "text": [
      "[[1. 1. 1.]\n",
      " [1. 1. 1.]]\n",
      "[[1. 1.]\n",
      " [1. 1.]]\n",
      "---------------------------\n",
      "[[1. 1. 1. 1. 1.]\n",
      " [1. 1. 1. 1. 1.]]\n",
      "---------------------------\n"
     ]
    },
    {
     "ename": "AttributeError",
     "evalue": "module 'numpy' has no attribute 'ᄑstack'",
     "output_type": "error",
     "traceback": [
      "\u001b[1;31m---------------------------------------------------------------------------\u001b[0m",
      "\u001b[1;31mAttributeError\u001b[0m                            Traceback (most recent call last)",
      "\u001b[1;32m<ipython-input-157-f6f881507bd9>\u001b[0m in \u001b[0;36m<module>\u001b[1;34m\u001b[0m\n\u001b[0;32m     12\u001b[0m \u001b[0mprint\u001b[0m\u001b[1;33m(\u001b[0m\u001b[1;34m\"---------------------------\"\u001b[0m\u001b[1;33m)\u001b[0m\u001b[1;33m\u001b[0m\u001b[1;33m\u001b[0m\u001b[0m\n\u001b[0;32m     13\u001b[0m \u001b[1;31m# 열로 합치기\u001b[0m\u001b[1;33m\u001b[0m\u001b[1;33m\u001b[0m\u001b[1;33m\u001b[0m\u001b[0m\n\u001b[1;32m---> 14\u001b[1;33m \u001b[0marr4\u001b[0m \u001b[1;33m=\u001b[0m \u001b[0mnp\u001b[0m\u001b[1;33m.\u001b[0m\u001b[0mㅍstack\u001b[0m\u001b[1;33m(\u001b[0m\u001b[1;33m[\u001b[0m\u001b[0marr1\u001b[0m\u001b[1;33m,\u001b[0m \u001b[0marr2\u001b[0m\u001b[1;33m]\u001b[0m\u001b[1;33m)\u001b[0m\u001b[1;33m\u001b[0m\u001b[1;33m\u001b[0m\u001b[0m\n\u001b[0m\u001b[0;32m     15\u001b[0m \u001b[0mprint\u001b[0m\u001b[1;33m(\u001b[0m\u001b[0marr4\u001b[0m\u001b[1;33m)\u001b[0m\u001b[1;33m\u001b[0m\u001b[1;33m\u001b[0m\u001b[0m\n",
      "\u001b[1;32m~\\anaconda3\\lib\\site-packages\\numpy\\__init__.py\u001b[0m in \u001b[0;36m__getattr__\u001b[1;34m(attr)\u001b[0m\n\u001b[0;32m    217\u001b[0m                 \u001b[1;32mreturn\u001b[0m \u001b[0mTester\u001b[0m\u001b[1;33m\u001b[0m\u001b[1;33m\u001b[0m\u001b[0m\n\u001b[0;32m    218\u001b[0m             \u001b[1;32melse\u001b[0m\u001b[1;33m:\u001b[0m\u001b[1;33m\u001b[0m\u001b[1;33m\u001b[0m\u001b[0m\n\u001b[1;32m--> 219\u001b[1;33m                 raise AttributeError(\"module {!r} has no attribute \"\n\u001b[0m\u001b[0;32m    220\u001b[0m                                      \"{!r}\".format(__name__, attr))\n\u001b[0;32m    221\u001b[0m \u001b[1;33m\u001b[0m\u001b[0m\n",
      "\u001b[1;31mAttributeError\u001b[0m: module 'numpy' has no attribute 'ᄑstack'"
     ]
    }
   ],
   "source": [
    "# hstack, stack\n",
    "\n",
    "arr1 = np.ones((2, 3))\n",
    "print(arr1)\n",
    "arr2 = np.ones((2, 2))\n",
    "print(arr2)\n",
    "# 행(수평)으로 합치기(행의 갯수만 같을 때)\n",
    "\n",
    "print(\"---------------------------\")\n",
    "\n",
    "arr3 = np.hstack([arr1, arr2])\n",
    "print(arr3)\n",
    "\n",
    "print(\"---------------------------\")\n",
    "\n",
    "# 열로 합치기 (Error)\n",
    "#arr4 = np.ㅍstack([arr1, arr2])\n",
    "#print(arr4)\n",
    "\n"
   ]
  },
  {
   "cell_type": "code",
   "execution_count": 160,
   "metadata": {},
   "outputs": [
    {
     "name": "stdout",
     "output_type": "stream",
     "text": [
      "[[[1. 0.]\n",
      "  [1. 0.]\n",
      "  [1. 0.]\n",
      "  [1. 0.]]\n",
      "\n",
      " [[1. 0.]\n",
      "  [1. 0.]\n",
      "  [1. 0.]\n",
      "  [1. 0.]]\n",
      "\n",
      " [[1. 0.]\n",
      "  [1. 0.]\n",
      "  [1. 0.]\n",
      "  [1. 0.]]]\n",
      "(3, 4, 2)\n"
     ]
    }
   ],
   "source": [
    "# dstack / d=depth은 즉, 레벨. 차원의 수\n",
    "\n",
    "# 3*4 배열의 갯수를 2배로 == 3 * 4 * 2\n",
    "arr1 = np.ones((3, 4))\n",
    "arr2 = np.zeros((3, 4))\n",
    "# 2차 -> 3차\n",
    "\n",
    "arr3 = np.dstack([arr1, arr2])\n",
    "print(arr3)\n",
    "print(arr3.shape) "
   ]
  },
  {
   "cell_type": "code",
   "execution_count": 165,
   "metadata": {},
   "outputs": [
    {
     "name": "stdout",
     "output_type": "stream",
     "text": [
      "[[[1. 1. 1. 1.]\n",
      "  [1. 1. 1. 1.]\n",
      "  [1. 1. 1. 1.]]\n",
      "\n",
      " [[0. 0. 0. 0.]\n",
      "  [0. 0. 0. 0.]\n",
      "  [0. 0. 0. 0.]]]\n",
      "(2, 3, 4)\n",
      "-----------------------\n",
      "[[[1. 1. 1. 1.]\n",
      "  [1. 1. 1. 1.]\n",
      "  [1. 1. 1. 1.]]\n",
      "\n",
      " [[0. 0. 0. 0.]\n",
      "  [0. 0. 0. 0.]\n",
      "  [0. 0. 0. 0.]]]\n",
      "(2, 3, 4)\n",
      "-----------------------\n",
      "[[[1. 1. 1. 1.]\n",
      "  [0. 0. 0. 0.]]\n",
      "\n",
      " [[1. 1. 1. 1.]\n",
      "  [0. 0. 0. 0.]]\n",
      "\n",
      " [[1. 1. 1. 1.]\n",
      "  [0. 0. 0. 0.]]]\n",
      "(3, 2, 4)\n",
      "-----------------------\n",
      "[[[1. 0.]\n",
      "  [1. 0.]\n",
      "  [1. 0.]\n",
      "  [1. 0.]]\n",
      "\n",
      " [[1. 0.]\n",
      "  [1. 0.]\n",
      "  [1. 0.]\n",
      "  [1. 0.]]\n",
      "\n",
      " [[1. 0.]\n",
      "  [1. 0.]\n",
      "  [1. 0.]\n",
      "  [1. 0.]]]\n",
      "(3, 4, 2)\n"
     ]
    }
   ],
   "source": [
    "# stack : dstack의 확장\n",
    "\n",
    "arr1 = np.ones((3, 4))\n",
    "arr2 = np.zeros((3, 4))\n",
    "\n",
    "arr3 = np.stack([arr1, arr2])\n",
    "print(arr3)\n",
    "print(arr3.shape)\n",
    "\n",
    "print(\"-----------------------\")\n",
    "\n",
    "arr4 = np.stack([arr1, arr2], axis=0)  # axis(cnr)=0 :기본값  # 2 * 3 * 4\n",
    "print(arr4)\n",
    "print(arr4.shape)\n",
    "\n",
    "print(\"-----------------------\")\n",
    "\n",
    "arr4 = np.stack([arr1, arr2], axis=1)  # axis=1 :3 * 2 * 4\n",
    "print(arr4)\n",
    "print(arr4.shape)\n",
    "\n",
    "print(\"-----------------------\")\n",
    "\n",
    "arr4 = np.stack([arr1, arr2], axis=2)  # axis=1 :3 * 4 * 2  == dstack()과 같은 결과\n",
    "print(arr4)\n",
    "print(arr4.shape)\n"
   ]
  },
  {
   "cell_type": "code",
   "execution_count": 169,
   "metadata": {},
   "outputs": [
    {
     "name": "stdout",
     "output_type": "stream",
     "text": [
      "[[0 1 2 0 1 2 0 1 2]\n",
      " [3 4 5 3 4 5 3 4 5]]\n",
      "-----------------------\n",
      "[[0 1 2 0 1 2]\n",
      " [3 4 5 3 4 5]\n",
      " [0 1 2 0 1 2]\n",
      " [3 4 5 3 4 5]\n",
      " [0 1 2 0 1 2]\n",
      " [3 4 5 3 4 5]]\n"
     ]
    }
   ],
   "source": [
    "# tile\n",
    "\n",
    "arr = np.array([[0, 1, 2], [3, 4, 5]])    # 2차원배열\n",
    "\n",
    "print(np.tile(arr, 3))\n",
    "\n",
    "print(\"-----------------------\")\n",
    "\n",
    "print(np.tile(arr, (3, 2)))"
   ]
  },
  {
   "cell_type": "markdown",
   "metadata": {},
   "source": [
    "### 2차원 그리드 포인트 생성 : meshgrid()"
   ]
  },
  {
   "cell_type": "code",
   "execution_count": 170,
   "metadata": {},
   "outputs": [
    {
     "data": {
      "text/plain": [
       "array([0, 1, 2])"
      ]
     },
     "execution_count": 170,
     "metadata": {},
     "output_type": "execute_result"
    }
   ],
   "source": [
    "x = np.arange(3)\n",
    "x"
   ]
  },
  {
   "cell_type": "code",
   "execution_count": 171,
   "metadata": {},
   "outputs": [
    {
     "data": {
      "text/plain": [
       "array([0, 1, 2, 3, 4])"
      ]
     },
     "execution_count": 171,
     "metadata": {},
     "output_type": "execute_result"
    }
   ],
   "source": [
    "y = np.arange(5)\n",
    "y"
   ]
  },
  {
   "cell_type": "code",
   "execution_count": 173,
   "metadata": {},
   "outputs": [
    {
     "name": "stdout",
     "output_type": "stream",
     "text": [
      "[[0 1 2]\n",
      " [0 1 2]\n",
      " [0 1 2]\n",
      " [0 1 2]\n",
      " [0 1 2]]\n",
      "--------------\n",
      "[[0 0 0]\n",
      " [1 1 1]\n",
      " [2 2 2]\n",
      " [3 3 3]\n",
      " [4 4 4]]\n"
     ]
    }
   ],
   "source": [
    "X, Y = np.meshgrid(x, y)\n",
    "\n",
    "print(X)\n",
    "print(\"--------------\")\n",
    "print(Y)\n"
   ]
  },
  {
   "cell_type": "code",
   "execution_count": 179,
   "metadata": {},
   "outputs": [
    {
     "data": {
      "text/plain": [
       "[[(0, 0), (1, 0), (2, 0)],\n",
       " [(0, 1), (1, 1), (2, 1)],\n",
       " [(0, 2), (1, 2), (2, 2)],\n",
       " [(0, 3), (1, 3), (2, 3)],\n",
       " [(0, 4), (1, 4), (2, 4)]]"
      ]
     },
     "execution_count": 179,
     "metadata": {},
     "output_type": "execute_result"
    }
   ],
   "source": [
    "# 반복문으로 돌려서 zip()으로 순서쌍으로 묶기 \n",
    "\n",
    "z = [list(zip(x, y)) for x, y in zip(X, Y)]\n",
    "z\n"
   ]
  },
  {
   "cell_type": "code",
   "execution_count": 180,
   "metadata": {},
   "outputs": [
    {
     "data": {
      "text/plain": [
       "<matplotlib.collections.PathCollection at 0x1e8b15182b0>"
      ]
     },
     "execution_count": 180,
     "metadata": {},
     "output_type": "execute_result"
    },
    {
     "data": {
      "image/png": "[encoded data removed]",
      "text/plain": [
       "<Figure size 432x288 with 1 Axes>"
      ]
     },
     "metadata": {
      "needs_background": "light"
     },
     "output_type": "display_data"
    }
   ],
   "source": [
    "# 그래프 (기본그래프 = 막대 그래프)\n",
    "\n",
    "import matplotlib.pylab as plt\n",
    "plt.scatter(X, Y)  # 산포도"
   ]
  },
  {
   "cell_type": "markdown",
   "metadata": {},
   "source": [
    "### 브로드 캐스팅(BroadCasting)\n",
    "\n",
    "+ 크기가 서로 다른 행렬(벡터)끼리 연산을 가능하게 하는 것"
   ]
  },
  {
   "cell_type": "code",
   "execution_count": null,
   "metadata": {},
   "outputs": [],
   "source": [
    "# 네트워크\n",
    "# 브로드 케스팅 =  1 : 불특정 다수\n",
    "# 멀티 캐스팅 = 1: 다\n",
    "# 유니 캐스팅 = 1:1"
   ]
  },
  {
   "cell_type": "code",
   "execution_count": 195,
   "metadata": {},
   "outputs": [
    {
     "name": "stdout",
     "output_type": "stream",
     "text": [
      "[0, 1, 2, 3, 4]\n",
      "[[0], [1], [2], [3], [4]]\n",
      "[0, 1, 2, 3, 4]\n",
      "[range(0, 3), range(1, 4), range(2, 5), range(3, 6), range(4, 7)]\n"
     ]
    }
   ],
   "source": [
    "print([i for i in range(5)[:]])\n",
    "print([[i] for i in range(5)])\n",
    "print([range(7)[i] for i in range(5)])\n",
    "print([range(7)[i: i+3] for i in range(5)])\n",
    "\n",
    "#print(np.vstack([range(7)[i: i+3] for i in range(5)]))"
   ]
  },
  {
   "cell_type": "code",
   "execution_count": 196,
   "metadata": {},
   "outputs": [
    {
     "name": "stdout",
     "output_type": "stream",
     "text": [
      "0\n",
      "1\n",
      "2\n",
      "------------------------\n",
      "[[0]\n",
      " [1]\n",
      " [2]\n",
      " [3]\n",
      " [4]]\n"
     ]
    }
   ],
   "source": [
    "data = range(10)[0:3]  # range함수를 슬라이스[] 하는 방법\n",
    "\n",
    "for i in data:\n",
    "    print(i)\n",
    "    \n",
    "print(\"------------------------\")\n",
    "\n",
    "print(np.arange(5)[:, np.newaxis])"
   ]
  },
  {
   "cell_type": "code",
   "execution_count": 200,
   "metadata": {},
   "outputs": [
    {
     "name": "stdout",
     "output_type": "stream",
     "text": [
      "[[ 0  1  2]\n",
      " [ 2  3  4]\n",
      " [ 4  5  6]\n",
      " [ 6  7  8]\n",
      " [ 8  9 10]]\n",
      "-----------------------\n",
      "[[0 2 4]\n",
      " [1 3 5]\n",
      " [2 4 6]\n",
      " [3 5 7]\n",
      " [4 6 8]]\n"
     ]
    }
   ],
   "source": [
    "x = np.vstack([range(7)[i:i+3] for i in range(5)])  # 5행 3열\n",
    "y = np.arange(5)[:, np.newaxis]   # 1행 5열\n",
    "\n",
    "print(x + y)\n",
    "\n",
    "print(\"-----------------------\")\n",
    "\n",
    "y = np.arange(3)[:]\n",
    "print(x + y)"
   ]
  },
  {
   "cell_type": "markdown",
   "metadata": {},
   "source": [
    "### 차원 축소(dimension reduction) 연산\n",
    "\n",
    "+ 최대값/최소값 : min, max, argmax, argmin\n",
    "+ 대표값 : sum, mean, median, std, var\n",
    "+ 불리언 : all(모두가 참일때 참), any(하나만 참이어도 참)\n",
    "-----------------\n",
    "행렬의 하나의 행에 있는 원소들을 하나의 데이터 집합으로 보고 그 집합의 평균을 구하면 각 행에 대해 하나의 숫자가 나오게 된다.\n",
    "이러한 연산을 차원 축소 연산이라고 한다. "
   ]
  },
  {
   "cell_type": "code",
   "execution_count": 5,
   "metadata": {},
   "outputs": [
    {
     "name": "stdout",
     "output_type": "stream",
     "text": [
      "3\n",
      "--------------\n",
      "1\n"
     ]
    }
   ],
   "source": [
    "x = np.array([1, 3, 2, -3])\n",
    "result = np.argmin(x)  # 최소값의 위치\n",
    "print(result)\n",
    "\n",
    "print(\"--------------\")\n",
    "\n",
    "result = np.argmax(x)  # 최대값의 위치\n",
    "print(result)"
   ]
  },
  {
   "cell_type": "code",
   "execution_count": 6,
   "metadata": {},
   "outputs": [
    {
     "name": "stdout",
     "output_type": "stream",
     "text": [
      "6\n",
      "열 합계:  [3 3]\n",
      "합 합계:  [2 4]\n"
     ]
    }
   ],
   "source": [
    "x = np.array([[1, 1], [2, 2]])\n",
    "\n",
    "print(x.sum())\n",
    "print(\"열 합계: \", x.sum(axis=0))\n",
    "print(\"합 합계: \", x.sum(axis=1))\n"
   ]
  },
  {
   "cell_type": "markdown",
   "metadata": {},
   "source": [
    "### 기술 통계 \n",
    "\n",
    "+ len() : 길이\n",
    "+ sum(), mean() : 합계, 평균\n",
    "+ var(), std() : 분산, 표준편차\n",
    "+ max(), min() : 최대값, 최소값\n",
    "+ median() : 중앙값\n",
    "+ percentile() : 사분위수  (주로 boxplot()으로 확인)"
   ]
  },
  {
   "cell_type": "code",
   "execution_count": 7,
   "metadata": {},
   "outputs": [
    {
     "name": "stdout",
     "output_type": "stream",
     "text": [
      "최소값 :  -24.0\n",
      "최대값 :  23.0\n",
      "1사분위 :  0.0\n",
      "2사분위 :  5.0\n",
      "3사분위 :  10.0\n"
     ]
    }
   ],
   "source": [
    "x = np.array([18,   5,  10,  23,  19,  -8,  10,   0,   0,   5,   2,  15,   8,\n",
    "              2,   5,   4,  15,  -1,   4,  -7, -24,   7,   9,  -6,  23, -13])\n",
    "\n",
    "print(\"최소값 : \", np.percentile(x, 0))  # Shift+Tab\n",
    "print(\"최대값 : \", np.percentile(x, 100))\n",
    "print(\"1사분위 : \", np.percentile(x, 25))\n",
    "print(\"2사분위 : \", np.percentile(x, 50))\n",
    "print(\"3사분위 : \", np.percentile(x, 75))"
   ]
  },
  {
   "cell_type": "code",
   "execution_count": 8,
   "metadata": {},
   "outputs": [
    {
     "data": {
      "text/plain": [
       "DescribeResult(nobs=26, minmax=(-24, 23), mean=4.8076923076923075, variance=119.84153846153846, skewness=-0.4762339485461929, kurtosis=0.37443381660038977)"
      ]
     },
     "execution_count": 8,
     "metadata": {},
     "output_type": "execute_result"
    }
   ],
   "source": [
    "# 여러개의 통계량을 한번에 확인하기\n",
    "\n",
    "from scipy.stats import describe\n",
    "\n",
    "describe(x)\n",
    "\n",
    "# skewness : 왜도(정규 분포로 판단할때, 그래프가 왼쪽으로 기울어져 있음으면 음수, 오른쪽은 양?수로 판단하는 그래프의 기울기 정도, 좌우 비대칭)\n",
    "# kurtosis : 첨도(그래프의 위아래 뽀죡한 정도 )\n"
   ]
  },
  {
   "cell_type": "markdown",
   "metadata": {},
   "source": [
    "### 정렬"
   ]
  },
  {
   "cell_type": "code",
   "execution_count": 14,
   "metadata": {},
   "outputs": [
    {
     "name": "stdout",
     "output_type": "stream",
     "text": [
      "[[ 3  4  5  7]\n",
      " [ 1  9 12 22]\n",
      " [ 1  2 14 15]]\n",
      "---------------\n",
      "[[ 3  4  5  7]\n",
      " [ 1  9 12 22]\n",
      " [ 1  2 14 15]]\n",
      "---------------\n",
      "[[ 1  3  1  7]\n",
      " [ 2 12  5  9]\n",
      " [ 4 15 22 14]]\n",
      "---------------\n",
      "[[ 4  3  5  7]\n",
      " [ 1 12 22  9]\n",
      " [ 2 15  1 14]]\n"
     ]
    }
   ],
   "source": [
    "arr = np.array([[4, 3, 5, 7], \n",
    "                [1, 12, 22, 9], \n",
    "                [2, 15, 1, 14]])\n",
    "\n",
    "print(np.sort(arr))\n",
    "print(\"---------------\")\n",
    "print(np.sort(arr, axis=1)) # 행으로 정렬\n",
    "print(\"---------------\")\n",
    "print(np.sort(arr, axis=0)) # 열로 정렬\n",
    "print(\"---------------\")\n",
    "print(arr)  # 정렬된 결과는 따로 저장"
   ]
  },
  {
   "cell_type": "code",
   "execution_count": null,
   "metadata": {},
   "outputs": [],
   "source": [
    "# 원본에 정렬 적용\n",
    "arr = np.sort(arr)\n",
    "\n",
    "arr.sort()  # in-place\n"
   ]
  },
  {
   "cell_type": "code",
   "execution_count": 17,
   "metadata": {},
   "outputs": [
    {
     "name": "stdout",
     "output_type": "stream",
     "text": [
      "[12 25 38 42]\n"
     ]
    }
   ],
   "source": [
    " # argsort \n",
    "arr1 = np.array([42, 38, 12, 25])  # 정렬 시켰을때 값의 인덱스 표시 \n",
    "idx = np.argsort(arr1)\n",
    "print(arr1[idx])"
   ]
  },
  {
   "cell_type": "code",
   "execution_count": 23,
   "metadata": {},
   "outputs": [
    {
     "name": "stdout",
     "output_type": "stream",
     "text": [
      "[42 38 25 12]\n",
      "[42 38 25 12]\n"
     ]
    }
   ],
   "source": [
    "# 내림차순\n",
    "\n",
    "print(np.sort(arr1)[::-1])  # [시작위치:끝위치:간격]\n",
    "\n",
    "# 또는\n",
    "print(arr1[np.argsort(-arr1)])"
   ]
  },
  {
   "cell_type": "code",
   "execution_count": 22,
   "metadata": {},
   "outputs": [
    {
     "name": "stdout",
     "output_type": "stream",
     "text": [
      "[0, 2, 4, 6, 8]\n",
      "[1, 3, 5, 7, 9]\n",
      "[9, 8, 7, 6, 5, 4, 3, 2, 1, 0]\n",
      "[9, 7, 5, 3, 1]\n"
     ]
    }
   ],
   "source": [
    "# 슬라이스 : arr[시작위치 끝위치:간격]\n",
    "ex = range(10)\n",
    "print(list(ex[::2]))\n",
    "print(list(ex[1::2]))\n",
    "print(list(ex[::-1]))\n",
    "print(list(ex[::-2]))"
   ]
  },
  {
   "cell_type": "markdown",
   "metadata": {},
   "source": [
    "### 난수\n",
    "\n",
    "+ rand() : 0 ~ 1 사이의 균일분포\n",
    "+ randn() : 가우시안 표준 정규분포(평균 : 0, 표준편차 : 1)\n",
    "+ randint() : 균일분포의 정수 난수 "
   ]
  },
  {
   "cell_type": "code",
   "execution_count": 27,
   "metadata": {},
   "outputs": [
    {
     "name": "stdout",
     "output_type": "stream",
     "text": [
      "[0.74803112 0.1501348  0.00745467 0.88169084 0.15848341 0.08317822\n",
      " 0.63792066 0.68907938 0.4209862  0.57178625]\n",
      "-----------------------\n",
      "[[0.80508465 0.23850353 0.4036845  0.92391334 0.77656122]\n",
      " [0.01662616 0.87717697 0.57197214 0.28460685 0.18701131]\n",
      " [0.5008674  0.83481766 0.16926237 0.25344321 0.71456957]]\n"
     ]
    }
   ],
   "source": [
    "print(np.random.rand(10))  # 배열로 리런\n",
    "print(\"-----------------------\")\n",
    "print(np.random.rand(3, 5))  # 2차원으로 리턴"
   ]
  },
  {
   "cell_type": "code",
   "execution_count": 41,
   "metadata": {},
   "outputs": [
    {
     "name": "stdout",
     "output_type": "stream",
     "text": [
      "6\n",
      "-----------------------\n",
      "16\n",
      "-----------------------\n",
      "[14 14 12 11 15 11 16 16 14 15 14 11 13 17 15 15 19 11 12 12 12 14 13 13\n",
      " 11 16 13 11 16 18 14 15 12 11 11 14 17 12 11 12 12 17 14 17 16 19 12 11\n",
      " 16 18 14 13 16 18 11 13 16 15 19 11 13 12 19 13 12 18 12 11 14 14 15 12\n",
      " 17 18 15 17 19 19 19 18 13 15 16 18 18 12 17 12 11 16 15 14 11 12 11 14\n",
      " 13 12 17 18]\n",
      "-----------------------\n",
      "[[15 14 13 19]\n",
      " [13 12 14 12]\n",
      " [17 12 19 13]]\n"
     ]
    }
   ],
   "source": [
    "print(np.random.randint(10))   # 0 ~ 9 사이의 난수 1개\n",
    "print(\"-----------------------\")\n",
    "print(np.random.randint(11, 20))  # 범위 지정 \n",
    "print(\"-----------------------\")\n",
    "print(np.random.randint(11, 20, size=100))  # 갯수 지정 \n",
    "print(\"-----------------------\")\n",
    "print(np.random.randint(11, 20, size=(3, 4)))  # 튜플로 지정"
   ]
  },
  {
   "cell_type": "code",
   "execution_count": 47,
   "metadata": {},
   "outputs": [
    {
     "data": {
      "text/plain": [
       "array([0.77132064, 0.02075195])"
      ]
     },
     "execution_count": 47,
     "metadata": {},
     "output_type": "execute_result"
    }
   ],
   "source": [
    "# 재현성(난수 고정)\n",
    "\n",
    "np.random.seed(10)\n",
    "np.random.rand(2)"
   ]
  },
  {
   "cell_type": "code",
   "execution_count": 52,
   "metadata": {},
   "outputs": [
    {
     "name": "stdout",
     "output_type": "stream",
     "text": [
      "[0 1 2 3 4 5 6 7 8 9]\n",
      "[7 5 9 4 0 1 2 3 8 6]\n"
     ]
    }
   ],
   "source": [
    "# 데이터의 순서 바꾸기\n",
    "\n",
    "x = np.arange(10)\n",
    "print(x)\n",
    "\n",
    "np.random.shuffle(x)\n",
    "print(x)"
   ]
  },
  {
   "cell_type": "code",
   "execution_count": 67,
   "metadata": {},
   "outputs": [
    {
     "name": "stdout",
     "output_type": "stream",
     "text": [
      "[0 2 0 1 4]\n",
      "[3 4 0]\n",
      "-----------------------------\n",
      "[4 3 1 2 0]\n",
      "-----------------------------\n",
      "[3 0 3 3 3 2 2 3 2 3]\n"
     ]
    }
   ],
   "source": [
    "# 샘플링 : 복원(default), 비복원 : replace= T(default) or F\n",
    "\n",
    "print(np.random.choice(5, 5))   # 0~4까지의 숫자 중 5번 추출(복원)\n",
    "print(np.random.choice(5, 3)) \n",
    "print(\"-----------------------------\")\n",
    "print(np.random.choice(5, 5, replace=False))  # 비복원\n",
    "print(\"-----------------------------\")\n",
    "print(np.random.choice(5, 10, p=[0.1, 0, 0.3, 0.6, 0]))   # 5개 중 10번, p=probability[확률로 난수 조정]"
   ]
  },
  {
   "cell_type": "markdown",
   "metadata": {},
   "source": [
    "### 정수형 데이터 카운팅 : unique, bincount"
   ]
  },
  {
   "cell_type": "code",
   "execution_count": 71,
   "metadata": {},
   "outputs": [
    {
     "name": "stdout",
     "output_type": "stream",
     "text": [
      "5\n",
      "['a' 'b' 'c']\n",
      "---------------\n",
      "['a' 'b' 'c']\n",
      "[2 2 1]\n"
     ]
    }
   ],
   "source": [
    "arr = np.array(['a', 'b', 'b', 'c', 'a'])\n",
    "\n",
    "print(len(arr))\n",
    "print(np.unique(arr))\n",
    "\n",
    "print(\"---------------\")\n",
    "idx, cnt = np.unique(arr, return_counts=True)  # 리턴값은 튜플\n",
    "print(idx)\n",
    "print(cnt) # 카테고리 별로 갯수 구분 / R에서는 table()"
   ]
  },
  {
   "cell_type": "code",
   "execution_count": 73,
   "metadata": {},
   "outputs": [
    {
     "name": "stdout",
     "output_type": "stream",
     "text": [
      "[0 2 3 1 0 0]\n"
     ]
    }
   ],
   "source": [
    "# bincount : 발생하지 않은 사건에 대해서도 카운팅/ 비어있는 값을 카운팅\n",
    "\n",
    "arr = np.array([1, 1, 2, 2, 2, 3])\n",
    "print(np.bincount(arr, minlength=6))  # 0~5 사이 값 중 한번도 나오지 않은 값을 표시"
   ]
  },
  {
   "cell_type": "markdown",
   "metadata": {},
   "source": [
    "### 실습\n",
    "\n",
    "+ data : https://grouplens.org/datasets/movielens/\n",
    "         Older Dataset에서 MovieLens 1M DataSet 받기: ml-1m.zip(size: 6 MB, checksum)"
   ]
  },
  {
   "cell_type": "code",
   "execution_count": 2,
   "metadata": {
    "scrolled": true
   },
   "outputs": [],
   "source": [
    "# 데이터 불러오기 \n",
    "data = np.loadtxt(\"data/ml-1m/ratings.dat\", delimiter=\"::\", dtype=np.int64)"
   ]
  },
  {
   "cell_type": "code",
   "execution_count": 3,
   "metadata": {},
   "outputs": [
    {
     "name": "stdout",
     "output_type": "stream",
     "text": [
      "[[        1      1193         5 978300760]\n",
      " [        1       661         3 978302109]\n",
      " [        1       914         3 978301968]\n",
      " ...\n",
      " [     6040       562         5 956704746]\n",
      " [     6040      1096         4 956715648]\n",
      " [     6040      1097         4 956715569]]\n"
     ]
    }
   ],
   "source": [
    "print(data)"
   ]
  },
  {
   "cell_type": "code",
   "execution_count": 3,
   "metadata": {},
   "outputs": [
    {
     "data": {
      "text/plain": [
       "array([[        1,      1193,         5, 978300760],\n",
       "       [        1,       661,         3, 978302109],\n",
       "       [        1,       914,         3, 978301968],\n",
       "       [        1,      3408,         4, 978300275],\n",
       "       [        1,      2355,         5, 978824291],\n",
       "       [        1,      1197,         3, 978302268],\n",
       "       [        1,      1287,         5, 978302039],\n",
       "       [        1,      2804,         5, 978300719],\n",
       "       [        1,       594,         4, 978302268],\n",
       "       [        1,       919,         4, 978301368],\n",
       "       [        1,       595,         5, 978824268],\n",
       "       [        1,       938,         4, 978301752],\n",
       "       [        1,      2398,         4, 978302281],\n",
       "       [        1,      2918,         4, 978302124],\n",
       "       [        1,      1035,         5, 978301753],\n",
       "       [        1,      2791,         4, 978302188],\n",
       "       [        1,      2687,         3, 978824268],\n",
       "       [        1,      2018,         4, 978301777],\n",
       "       [        1,      3105,         5, 978301713],\n",
       "       [        1,      2797,         4, 978302039],\n",
       "       [        1,      2321,         3, 978302205]], dtype=int64)"
      ]
     },
     "execution_count": 3,
     "metadata": {},
     "output_type": "execute_result"
    }
   ],
   "source": [
    "# 1행부터 20행까지 출력\n",
    "data[:21, :]"
   ]
  },
  {
   "cell_type": "code",
   "execution_count": 4,
   "metadata": {},
   "outputs": [
    {
     "data": {
      "text/plain": [
       "array([[   1,  720],\n",
       "       [   1, 1270],\n",
       "       [   1,  527],\n",
       "       [   1, 2340],\n",
       "       [   1,   48],\n",
       "       [   1, 1097],\n",
       "       [   1, 1721],\n",
       "       [   1, 1545],\n",
       "       [   1,  745],\n",
       "       [   1, 2294]], dtype=int64)"
      ]
     },
     "execution_count": 4,
     "metadata": {},
     "output_type": "execute_result"
    }
   ],
   "source": [
    "# 21행부터 30행까지 userid와 movieid만 출력\n",
    "data[21:31, 0:2]"
   ]
  },
  {
   "cell_type": "code",
   "execution_count": 5,
   "metadata": {},
   "outputs": [
    {
     "name": "stdout",
     "output_type": "stream",
     "text": [
      "3.581564453029317\n",
      "3.581564453029317\n"
     ]
    }
   ],
   "source": [
    "# 전체 평점 평균 = 열 평균\n",
    "print(data[:, 2].mean())\n",
    "print(np.mean(data[:, 2]))"
   ]
  },
  {
   "cell_type": "code",
   "execution_count": 6,
   "metadata": {},
   "outputs": [
    {
     "name": "stdout",
     "output_type": "stream",
     "text": [
      "(6040,)\n",
      "결과 :  [[1, 4.188679245283019], [2, 3.7131782945736433], [3, 3.9019607843137254], [4, 4.190476190476191], [5, 3.1464646464646466], [6, 3.9014084507042255], [7, 4.32258064516129], [8, 3.884892086330935], [9, 3.7358490566037736], [10, 4.114713216957606]]\n"
     ]
    }
   ],
   "source": [
    "# 사용자별로 평점 평균  (10명만 출력)\n",
    "user_id = np.unique(data[:, 0])\n",
    "print(user_id.shape)\n",
    "\n",
    "mean_values = []\n",
    "for id in user_id:\n",
    "    data_for_user = data[data[:, 0] == id, :] # 행은 0번째,열은 전체\n",
    "    value = data_for_user[:, 2].mean() # 영화 평론만(2) 평균\n",
    "    mean_values.append([id, value])\n",
    "    \n",
    "print(\"결과 : \", mean_values[:10])"
   ]
  },
  {
   "cell_type": "code",
   "execution_count": 11,
   "metadata": {},
   "outputs": [
    {
     "name": "stdout",
     "output_type": "stream",
     "text": [
      "[ 282 2338 3323 ... 2743 4485 3597]\n",
      "[283.           4.96296296]\n"
     ]
    }
   ],
   "source": [
    "# 최고 평점 구하기(누가 얼마를)\n",
    "# UserID::MovieID::Rating::Timestamp\n",
    "\n",
    "arr_mean_values = np.array(mean_values)  # 데이터 타입을 np.array로 바꾸기\n",
    "\n",
    "#print(np.argsort(arr_mean_values[:, 1]))  # 평점\n",
    "print(np.argsort(arr_mean_values[:, 1])[::-1])  # 내침차순 정렬 [::-1]\n",
    "#print(arr_mean_values[282])  # 282번째에 있는 가장 높은 평점\n",
    "\n",
    "#print(arr_mean_values[np.argsort(arr_mean_values[:, 1])[::-1]][0]) # 한줄\n",
    "\n",
    "#print(\"----------------------------------------\")\n",
    "\n",
    "# 최대값만 구한다면\n",
    "# print(np.max(arr_mean_values[:, 1])) 정말로 최대값만 구해짐..ㅠㅠ\n",
    "# 또는 argmax()를 사용\n",
    "#print(np.argmax(arr_mean_values[:, 1]))\n",
    "#print(arr_mean_values[282])\n",
    "\n",
    "print(arr_mean_values[np.argmax(arr_mean_values[:, 1])])\n"
   ]
  },
  {
   "cell_type": "code",
   "execution_count": 12,
   "metadata": {},
   "outputs": [],
   "source": [
    "# 결과값을 파일로 저장\n",
    "# 기본함수 open() 사용가능\n",
    "\n",
    "np.savetxt(\"data/ml-1m/id_rations.csv\", arr_mean_values, delimiter=\",\", fmt=\"%.1f\") # fmt(format)= 소수점 1자리까지 저장"
   ]
  },
  {
   "cell_type": "code",
   "execution_count": null,
   "metadata": {},
   "outputs": [],
   "source": []
  }
 ],
 "metadata": {
  "kernelspec": {
   "display_name": "Python 3",
   "language": "python",
   "name": "python3"
  },
  "language_info": {
   "codemirror_mode": {
    "name": "ipython",
    "version": 3
   },
   "file_extension": ".py",
   "mimetype": "text/x-python",
   "name": "python",
   "nbconvert_exporter": "python",
   "pygments_lexer": "ipython3",
   "version": "3.8.3"
  }
 },
 "nbformat": 4,
 "nbformat_minor": 4
}
