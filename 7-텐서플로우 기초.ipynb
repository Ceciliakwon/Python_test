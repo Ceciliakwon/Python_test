{
 "cells": [
  {
   "cell_type": "markdown",
   "metadata": {},
   "source": [
    "#### 참고\n",
    "\n",
    "+ http://www.tensorflow.org\n",
    "+ https://hunkim.github.io/ml/\n",
    "\n",
    "\n",
    "#### 가상 환경 준비\n",
    "\n",
    "+ conda create -n 가상환경이름\n",
    "    - conda create -n tf1 python=3.7 anaconda\n",
    "    \n",
    "+ activate 가상환경이름\n",
    "+ conda deactivate\n",
    "+ 삭제 : conda remove --name 가상환경이름 --all\n",
    "\n",
    "#### 설치\n",
    "\n",
    "+ pip install tensorflow -> 그냥 최신버전\n",
    "+ pip install tensorflow==1.15.0\n",
    "+ conda install tensorflow==1.15.0\n",
    "\n",
    "\n",
    "#### 특징\n",
    "\n",
    "+ 구글에서 만든 오픈소스 머신러닝 프레임워크\n",
    "+ 다양한 언어를 제공하며 파이썬이 가장 많이 사용됨\n",
    "+ 기본적으로 텐서(일종의 배열 데이터)를 활용한 그래프 수치 연산을 하는 도구\n",
    "\n",
    "\n",
    "#### 머신러닝 프레임워크 종류들\n",
    "\n",
    "+ Theano\n",
    "+ Pytorch\n",
    "+ Torch\n",
    "+ Caffe\n",
    "+ Keras\n",
    "+ ...\n",
    "\n",
    "\n",
    "#### 기본 용어\n",
    "\n",
    "+ 그래프 : 수학적인 의미에서 노드와 엣지로 구성된 기하 모형\n",
    "+ 노드(node) : 연산 및 데이터 정의\n",
    "+ 엣지(edge) : 노드를 연결하는 선(데이터의 흐름)\n",
    "+ 텐서(tensor) : 다차원 데이터 배열\n",
    "+ 세션(session) : 그래프를 실행시키기 위해서 필요한 객체"
   ]
  },
  {
   "cell_type": "code",
   "execution_count": 1,
   "metadata": {},
   "outputs": [
    {
     "name": "stdout",
     "output_type": "stream",
     "text": [
      "1.15.0\n"
     ]
    }
   ],
   "source": [
    "import tensorflow as tf\n",
    "print(tf.__version__)"
   ]
  },
  {
   "cell_type": "code",
   "execution_count": 2,
   "metadata": {},
   "outputs": [
    {
     "name": "stdout",
     "output_type": "stream",
     "text": [
      "3.7.9 (default, Aug 31 2020, 17:10:11) [MSC v.1916 64 bit (AMD64)]\n"
     ]
    }
   ],
   "source": [
    "import sys\n",
    "\n",
    "print(sys.version)"
   ]
  },
  {
   "cell_type": "markdown",
   "metadata": {},
   "source": [
    "### 1. 텐서\n",
    "\n",
    "0D텐서, 1D텐서, 2D텐서, 3D텐서, 고차원텐서"
   ]
  },
  {
   "cell_type": "code",
   "execution_count": 9,
   "metadata": {},
   "outputs": [
    {
     "data": {
      "text/plain": [
       "dtype('int32')"
      ]
     },
     "execution_count": 9,
     "metadata": {},
     "output_type": "execute_result"
    }
   ],
   "source": [
    "import numpy as np\n",
    "\n",
    "# 0D 텐서(스칼라)\n",
    "\n",
    "x = np.array(10)\n",
    "x\n",
    "x.ndim\n",
    "x.shape\n",
    "x.dtype"
   ]
  },
  {
   "cell_type": "code",
   "execution_count": 12,
   "metadata": {},
   "outputs": [
    {
     "data": {
      "text/plain": [
       "dtype('int32')"
      ]
     },
     "execution_count": 12,
     "metadata": {},
     "output_type": "execute_result"
    }
   ],
   "source": [
    "# 1D 텐서(벡터)\n",
    "x = np.array([10])\n",
    "x\n",
    "x.ndim\n",
    "x.shape\n",
    "x.dtype"
   ]
  },
  {
   "cell_type": "code",
   "execution_count": 14,
   "metadata": {},
   "outputs": [
    {
     "data": {
      "text/plain": [
       "(3, 4)"
      ]
     },
     "execution_count": 14,
     "metadata": {},
     "output_type": "execute_result"
    }
   ],
   "source": [
    "# 2D 텐서(행렬)\n",
    "x = np.array([[1, 2, 3, 4], [5, 6, 7, 8], [9, 10, 11, 12]])\n",
    "x\n",
    "x.ndim\n",
    "x.shape\n",
    "#x.dtype"
   ]
  },
  {
   "cell_type": "code",
   "execution_count": null,
   "metadata": {},
   "outputs": [],
   "source": [
    "# 3D 텐서, 고차원 텐서\n",
    "# 딥러닝에서는 0D ~ 4D(주로 이미지용)까지 주로 사용\n",
    "# 동영상을 다룰때에는 5D 텐서까지 사용\n",
    "\n",
    "# 자주 사용하는 속성\n",
    "    # 1. 축의 갯수(rank) : ndim\n",
    "    # 2. 크기 : shape\n",
    "    # 3. 타입 : dtype"
   ]
  },
  {
   "cell_type": "markdown",
   "metadata": {},
   "source": [
    "### 2. 기본 구성 요소\n",
    "\n",
    "+ placeholder()\n",
    "\n",
    "\n",
    "+ constant() : 함수\n",
    "    - tf.constant(\n",
    "    value, dtype=None, shape=None, name='Const', verify_shape=False)\n",
    "    \n",
    "\n",
    "+ Variable() : 클래스(유사한 기능들을 묶어서, 더 큰 규모)\n",
    "    - tf.Variable(\n",
    "        initial_value=None, \n",
    "        trainable=None, \n",
    "        collections=None, \n",
    "        validate_shape=True,\n",
    "        caching_device=None, \n",
    "        name=None, \n",
    "        variable_def=None, \n",
    "        dtype=None,\n",
    "        expected_shape=None, \n",
    "        import_scope=None, \n",
    "        constraint=None, \n",
    "        use_resource=None,\n",
    "        synchronization=tf.VariableSynchronization.AUTO,\n",
    "        aggregation=tf.VariableAggregation.NONE, shape=None)"
   ]
  },
  {
   "cell_type": "markdown",
   "metadata": {},
   "source": [
    "#### 1) constant\n",
    "- 절대 변하지 않는 상수를 의미\n",
    "- 자체적으로 그래프를 가진다.\n",
    "- 메서드"
   ]
  },
  {
   "cell_type": "code",
   "execution_count": 21,
   "metadata": {},
   "outputs": [
    {
     "name": "stdout",
     "output_type": "stream",
     "text": [
      "Tensor(\"Const_7:0\", shape=(), dtype=int32)\n",
      "Tensor(\"Const_8:0\", shape=(), dtype=int32)\n",
      "Tensor(\"Add:0\", shape=(), dtype=int32)\n"
     ]
    }
   ],
   "source": [
    "a = tf.constant(10)\n",
    "print(a)\n",
    "\n",
    "b = tf.constant(20)\n",
    "print(b)\n",
    "\n",
    "c = tf.add(a, b)\n",
    "print(c)"
   ]
  },
  {
   "cell_type": "code",
   "execution_count": 22,
   "metadata": {},
   "outputs": [
    {
     "name": "stdout",
     "output_type": "stream",
     "text": [
      "10\n",
      "20\n",
      "30\n"
     ]
    }
   ],
   "source": [
    "# 세션객체(실제로 작업할 공간) 생성\n",
    "sess = tf.Session()\n",
    "\n",
    "# a 실행\n",
    "print(sess.run(a))\n",
    "print(sess.run(b))\n",
    "print(sess.run(c))\n",
    "\n",
    "# 맨 마지막 노드만 실행하면, 자동으로 앞에서 부터 순차적으로 작동(a, b 필요없음)"
   ]
  },
  {
   "cell_type": "code",
   "execution_count": null,
   "metadata": {},
   "outputs": [],
   "source": [
    "# 결과 : 5 * 4* 3 * 2 * 1"
   ]
  },
  {
   "cell_type": "code",
   "execution_count": 24,
   "metadata": {},
   "outputs": [
    {
     "data": {
      "text/plain": [
       "<tensorflow.python.summary.writer.writer.FileWriter at 0x203afac3d88>"
      ]
     },
     "execution_count": 24,
     "metadata": {},
     "output_type": "execute_result"
    }
   ],
   "source": [
    "# TensorBoard 유틸리티\n",
    "tf.summary.FileWriter(\"log_dir\", graph=sess.graph)\n",
    "\n",
    "# 가상환경(도스창)에서 경로지정\n",
    "# activate tf1 -> tensorboard --logdir=log_dir"
   ]
  },
  {
   "cell_type": "code",
   "execution_count": 25,
   "metadata": {},
   "outputs": [],
   "source": [
    "sess.close()"
   ]
  },
  {
   "cell_type": "code",
   "execution_count": 26,
   "metadata": {},
   "outputs": [],
   "source": [
    "# (5 + 2) * 3\n",
    "a = tf.constant([5])\n",
    "b = tf.constant([2])\n",
    "c = tf.add(a, b)\n",
    "d = tf.constant([3])\n",
    "e = tf.multiply(c, d)"
   ]
  },
  {
   "cell_type": "code",
   "execution_count": 27,
   "metadata": {},
   "outputs": [
    {
     "data": {
      "text/plain": [
       "array([21])"
      ]
     },
     "execution_count": 27,
     "metadata": {},
     "output_type": "execute_result"
    }
   ],
   "source": [
    "sess = tf.Session()\n",
    "sess.run(e)"
   ]
  },
  {
   "cell_type": "code",
   "execution_count": 28,
   "metadata": {},
   "outputs": [
    {
     "data": {
      "text/plain": [
       "<tensorflow.python.summary.writer.writer.FileWriter at 0x203afac9948>"
      ]
     },
     "execution_count": 28,
     "metadata": {},
     "output_type": "execute_result"
    }
   ],
   "source": [
    "tf.summary.FileWriter(\"log_dir\", graph=sess.graph)"
   ]
  },
  {
   "cell_type": "code",
   "execution_count": 30,
   "metadata": {},
   "outputs": [],
   "source": [
    "sess.close()"
   ]
  },
  {
   "cell_type": "markdown",
   "metadata": {},
   "source": [
    "#### 2) Variable\n",
    "\n",
    "+ 객체로 정의되어 있다.\n",
    "+ weight(가중치)를 저장하는 변수\n",
    "+ 사용 전에는 반드시 초기화(global_variables_initializer() 호출) "
   ]
  },
  {
   "cell_type": "code",
   "execution_count": 29,
   "metadata": {},
   "outputs": [
    {
     "name": "stdout",
     "output_type": "stream",
     "text": [
      "Tensor(\"add_3:0\", shape=(1,), dtype=int32)\n"
     ]
    }
   ],
   "source": [
    "v1 = tf.Variable(initial_value=[5])\n",
    "v2 = tf.Variable([3]) #initial_value 생략가능\n",
    "v3 = tf.Variable([2])\n",
    "\n",
    "v4 = v1 + v2 + v3\n",
    "print(v4)"
   ]
  },
  {
   "cell_type": "code",
   "execution_count": 34,
   "metadata": {},
   "outputs": [
    {
     "data": {
      "text/plain": [
       "array([10])"
      ]
     },
     "execution_count": 34,
     "metadata": {},
     "output_type": "execute_result"
    }
   ],
   "source": [
    "sess = tf.Session()\n",
    "sess.run(tf.global_variables_initializer()) #초기화\n",
    "sess.run(v4)"
   ]
  },
  {
   "cell_type": "code",
   "execution_count": 35,
   "metadata": {},
   "outputs": [
    {
     "data": {
      "text/plain": [
       "<tensorflow.python.summary.writer.writer.FileWriter at 0x203b0ca6888>"
      ]
     },
     "execution_count": 35,
     "metadata": {},
     "output_type": "execute_result"
    }
   ],
   "source": [
    "tf.summary.FileWriter(\"log_dir\", graph=sess.graph)"
   ]
  },
  {
   "cell_type": "code",
   "execution_count": 37,
   "metadata": {},
   "outputs": [],
   "source": [
    "sess.close()"
   ]
  },
  {
   "cell_type": "markdown",
   "metadata": {},
   "source": [
    "#### 3) placeholder\n",
    "\n",
    "+ 그래프를 만들지 않는다.\n",
    "+ 입력된 데이터를 텐서와 매핑하는 역할"
   ]
  },
  {
   "cell_type": "code",
   "execution_count": 36,
   "metadata": {},
   "outputs": [],
   "source": [
    "p1 = tf.placeholder(dtype=tf.float32)\n",
    "p2 = tf.placeholder(dtype=tf.float32)\n",
    "p3 = tf.placeholder(dtype=tf.float32)\n",
    "\n",
    "result = p1 + p2 + p3\n",
    "\n",
    "e = tf.multiply(c, d)"
   ]
  },
  {
   "cell_type": "code",
   "execution_count": 38,
   "metadata": {},
   "outputs": [
    {
     "data": {
      "text/plain": [
       "10.0"
      ]
     },
     "execution_count": 38,
     "metadata": {},
     "output_type": "execute_result"
    }
   ],
   "source": [
    "v1 = 5\n",
    "v2 = 3\n",
    "v3 = 2\n",
    "\n",
    "sess = tf.Session()\n",
    "sess.run(result, feed_dict={p1:v1, p2:v2, p3:v3})"
   ]
  },
  {
   "cell_type": "code",
   "execution_count": 3,
   "metadata": {},
   "outputs": [],
   "source": [
    "# 구구단 프로그램\n",
    "def gugu(dan):\n",
    "    left = tf.placeholder(tf.int32)\n",
    "    right = tf.placeholder(tf.int32)\n",
    "    calc = tf.multiply(left, right)\n",
    "    \n",
    "    sess = tf.Session()\n",
    "    for i in range(1, 10):\n",
    "        result = sess.run(calc, feed_dict={left:dan, right:i})\n",
    "        print(\"{} * {} = {}\".format(dan, i, result))\n",
    "        \n",
    "    sess.close() ## with사용시 close 필요없음"
   ]
  },
  {
   "cell_type": "code",
   "execution_count": 5,
   "metadata": {},
   "outputs": [
    {
     "name": "stdout",
     "output_type": "stream",
     "text": [
      "7 * 1 = 7\n",
      "7 * 2 = 14\n",
      "7 * 3 = 21\n",
      "7 * 4 = 28\n",
      "7 * 5 = 35\n",
      "7 * 6 = 42\n",
      "7 * 7 = 49\n",
      "7 * 8 = 56\n",
      "7 * 9 = 63\n"
     ]
    }
   ],
   "source": [
    "gugu(7)"
   ]
  },
  {
   "cell_type": "code",
   "execution_count": null,
   "metadata": {},
   "outputs": [],
   "source": []
  },
  {
   "cell_type": "code",
   "execution_count": null,
   "metadata": {},
   "outputs": [],
   "source": []
  },
  {
   "cell_type": "code",
   "execution_count": null,
   "metadata": {},
   "outputs": [],
   "source": []
  },
  {
   "cell_type": "code",
   "execution_count": null,
   "metadata": {},
   "outputs": [],
   "source": []
  }
 ],
 "metadata": {
  "kernelspec": {
   "display_name": "Python 3",
   "language": "python",
   "name": "python3"
  },
  "language_info": {
   "codemirror_mode": {
    "name": "ipython",
    "version": 3
   },
   "file_extension": ".py",
   "mimetype": "text/x-python",
   "name": "python",
   "nbconvert_exporter": "python",
   "pygments_lexer": "ipython3",
   "version": "3.8.3"
  }
 },
 "nbformat": 4,
 "nbformat_minor": 4
}
